{
 "cells": [
  {
   "cell_type": "markdown",
   "id": "abc76d93",
   "metadata": {},
   "source": [
    "**Print Statement**"
   ]
  },
  {
   "cell_type": "code",
   "execution_count": 1,
   "id": "af0cb8d5",
   "metadata": {},
   "outputs": [
    {
     "name": "stdout",
     "output_type": "stream",
     "text": [
      "Hello World!\n"
     ]
    }
   ],
   "source": [
    "print(\"Hello World!\")"
   ]
  },
  {
   "cell_type": "code",
   "execution_count": 3,
   "id": "db8e5d23",
   "metadata": {},
   "outputs": [
    {
     "name": "stdout",
     "output_type": "stream",
     "text": [
      "Hello world!,\n",
      "      How are you?\n"
     ]
    }
   ],
   "source": [
    "#printing multiple lines\n",
    "print(\"\"\"Hello world!,\n",
    "      How are you?\"\"\")"
   ]
  },
  {
   "cell_type": "code",
   "execution_count": 5,
   "id": "223328d9",
   "metadata": {},
   "outputs": [
    {
     "name": "stdout",
     "output_type": "stream",
     "text": [
      "HelloWorld!\n",
      "How are you again?!\n"
     ]
    }
   ],
   "source": [
    "print(\"Hello\" \"World!\" \"\\n\"\n",
    "      \"How are you again?!\")"
   ]
  },
  {
   "cell_type": "markdown",
   "id": "5fe87d7a",
   "metadata": {},
   "source": [
    "**Exceptional cases in print statement**"
   ]
  },
  {
   "cell_type": "code",
   "execution_count": 17,
   "id": "82dcd451",
   "metadata": {},
   "outputs": [
    {
     "name": "stdout",
     "output_type": "stream",
     "text": [
      "Hello 'World'!\n",
      "Hello \"World\"!\n"
     ]
    }
   ],
   "source": [
    "print(\"Hello 'World'!\") # if want to print single quotes\n",
    "print('Hello \"World\"!') # if want to print double quotes    "
   ]
  },
  {
   "cell_type": "code",
   "execution_count": 19,
   "id": "c603ad08",
   "metadata": {},
   "outputs": [
    {
     "name": "stdout",
     "output_type": "stream",
     "text": [
      "I am learning Python!\n"
     ]
    }
   ],
   "source": [
    "language = \"Python\"\n",
    "print(f\"I am learning {language}!\") # f-string for formatting"
   ]
  },
  {
   "cell_type": "markdown",
   "id": "9cb24f17",
   "metadata": {},
   "source": [
    "**Comments**"
   ]
  },
  {
   "cell_type": "code",
   "execution_count": 6,
   "id": "08f39016",
   "metadata": {},
   "outputs": [
    {
     "name": "stdout",
     "output_type": "stream",
     "text": [
      "Hello World!\n"
     ]
    }
   ],
   "source": [
    "# say hello to the world -> this is a comment\n",
    "print(\"Hello World!\")"
   ]
  },
  {
   "cell_type": "code",
   "execution_count": 11,
   "id": "e53a7e1c",
   "metadata": {},
   "outputs": [],
   "source": [
    "#Multi \n",
    "#line \n",
    "#comment"
   ]
  },
  {
   "cell_type": "code",
   "execution_count": 15,
   "id": "bd90bb67",
   "metadata": {},
   "outputs": [
    {
     "name": "stdout",
     "output_type": "stream",
     "text": [
      "Hello World!\n"
     ]
    }
   ],
   "source": [
    "#Multi line comment\n",
    "'''\n",
    "Hi, How\n",
    "are\n",
    "you?\n",
    "'''\n",
    "print(\"Hello World!\")"
   ]
  },
  {
   "cell_type": "markdown",
   "id": "9fcf0f71",
   "metadata": {},
   "source": [
    "**Variables** (variable is nothing but the container to store data)\n",
    "- variable name should start with alphabet\n",
    "- variable name should not contain special character (except '_')\n",
    "- variable names can contain numbers but we cant start a variable name with a number\n",
    "- It's not a strict rule that we should start a variable name with capital letter. But its recommended to use small letters for tha variables."
   ]
  },
  {
   "cell_type": "code",
   "execution_count": 20,
   "id": "9fe22aa6",
   "metadata": {},
   "outputs": [],
   "source": [
    "t = 10\n",
    "ten = 10\n",
    "ten_number = 10\n",
    "tenNumber = 10\n",
    "x = 5\n",
    "name = \"John\""
   ]
  },
  {
   "cell_type": "code",
   "execution_count": 22,
   "id": "029f2722",
   "metadata": {},
   "outputs": [],
   "source": [
    "# Assigning multiple variables in one line\n",
    "a, b, c = 1, 2, 3"
   ]
  },
  {
   "cell_type": "code",
   "execution_count": 23,
   "id": "613ac058",
   "metadata": {},
   "outputs": [
    {
     "name": "stdout",
     "output_type": "stream",
     "text": [
      "<class 'int'>\n"
     ]
    }
   ],
   "source": [
    "# Checking type of a variable\n",
    "print(type(t))  # <class 'int'>"
   ]
  },
  {
   "cell_type": "markdown",
   "id": "8b7e750b",
   "metadata": {},
   "source": [
    "**Fundamental Data Types**"
   ]
  },
  {
   "cell_type": "code",
   "execution_count": 24,
   "id": "10e5f1a0",
   "metadata": {},
   "outputs": [],
   "source": [
    "# Numeric\n",
    "\n",
    "a = 7 # Integer\n",
    "b = 3.14 # Float\n",
    "c = 2 + 3j # Complex "
   ]
  },
  {
   "cell_type": "code",
   "execution_count": 25,
   "id": "ae15a4ac",
   "metadata": {},
   "outputs": [
    {
     "name": "stdout",
     "output_type": "stream",
     "text": [
      "<class 'int'>\n",
      "<class 'float'>\n",
      "<class 'complex'>\n"
     ]
    }
   ],
   "source": [
    "print(type(a))  # <class 'int'>\n",
    "print(type(b))  # <class 'float'>\n",
    "print(type(c))  # <class 'complex'>"
   ]
  },
  {
   "cell_type": "code",
   "execution_count": 26,
   "id": "fb9a3c85",
   "metadata": {},
   "outputs": [
    {
     "name": "stdout",
     "output_type": "stream",
     "text": [
      "2.0\n",
      "3.0\n"
     ]
    }
   ],
   "source": [
    "print(c.real)  # Real part of complex number\n",
    "print(c.imag)  # Imaginary part of complex number"
   ]
  },
  {
   "cell_type": "code",
   "execution_count": 27,
   "id": "9a8e3954",
   "metadata": {},
   "outputs": [
    {
     "name": "stdout",
     "output_type": "stream",
     "text": [
      "<class 'str'>\n"
     ]
    }
   ],
   "source": [
    "# Text\n",
    "\n",
    "name = \"Alice\"  # String\n",
    "print(type(name))  # <class 'str'>"
   ]
  },
  {
   "cell_type": "code",
   "execution_count": 29,
   "id": "0a90d4f3",
   "metadata": {},
   "outputs": [
    {
     "name": "stdout",
     "output_type": "stream",
     "text": [
      "<class 'bool'>\n",
      "<class 'bool'>\n"
     ]
    }
   ],
   "source": [
    "# Boolean variable\n",
    "\n",
    "x = True  # Boolean\n",
    "y = False  # Boolean\n",
    "\n",
    "print(type(x))  # <class 'bool'>\n",
    "print(type(y))  # <class 'bool'>"
   ]
  },
  {
   "cell_type": "markdown",
   "id": "cba99e48",
   "metadata": {},
   "source": [
    "**User Input**"
   ]
  },
  {
   "cell_type": "code",
   "execution_count": 36,
   "id": "a476c6de",
   "metadata": {},
   "outputs": [
    {
     "name": "stdout",
     "output_type": "stream",
     "text": [
      "Hello, John!\n"
     ]
    }
   ],
   "source": [
    "# input keyword is used to take input from the user in real-time\n",
    "\n",
    "name = input(\"Enter your name: \") # Taking user input for name\n",
    "\n",
    "print(f\"Hello, {name}!\")  # Greeting the user with their name"
   ]
  },
  {
   "cell_type": "code",
   "execution_count": 35,
   "id": "002fecc0",
   "metadata": {},
   "outputs": [
    {
     "name": "stdout",
     "output_type": "stream",
     "text": [
      "Hello, John from Birmingham! You were born in 1991.\n"
     ]
    }
   ],
   "source": [
    "name = input(\"Enter your name: \")  # Taking user input for name\n",
    "place = input(\"Enter your place: \")  # Taking user input for place\n",
    "year_of_birth = input(\"Enter your year of birth: \")  # Taking user input for year of birth\n",
    "\n",
    "print(f\"Hello, {name} from {place}! You were born in {year_of_birth}.\")  # Greeting the user with their details"
   ]
  },
  {
   "cell_type": "code",
   "execution_count": 37,
   "id": "7d35eb90",
   "metadata": {},
   "outputs": [
    {
     "name": "stdout",
     "output_type": "stream",
     "text": [
      "Hello, Alex! Your age is 32\n"
     ]
    }
   ],
   "source": [
    "# calculate the age of the user\n",
    "\n",
    "name = input(\"Enter your name: \")\n",
    "year_of_birth = int(input(\"Enter your year of birth: \"))  # Taking user input for year of birth and converting it to an integer\n",
    "\n",
    "from datetime import datetime\n",
    "current_year = datetime.now().year  # Get the current year\n",
    "\n",
    "print(f\"Hello, {name}! Your age is {current_year - year_of_birth}\")\n"
   ]
  },
  {
   "cell_type": "markdown",
   "id": "101e0279",
   "metadata": {},
   "source": [
    "**Type Conversion**\n",
    "- We can convert the data type of one variable into another if it is allowed."
   ]
  },
  {
   "cell_type": "code",
   "execution_count": 40,
   "id": "3d3c9b21",
   "metadata": {},
   "outputs": [
    {
     "name": "stdout",
     "output_type": "stream",
     "text": [
      "A = 10 & Type of A: <class 'str'>\n",
      "B = 20 & Type of B: <class 'str'>\n"
     ]
    }
   ],
   "source": [
    "A = input(\"Enter a number: \")  \n",
    "B = input(\"Enter another number: \")\n",
    "\n",
    "print(f\"A = {A} & Type of A: {type(A)}\" \"\\n\"\n",
    "      f\"B = {B} & Type of B: {type(B)}\")"
   ]
  },
  {
   "cell_type": "markdown",
   "id": "4d98a03b",
   "metadata": {},
   "source": [
    "In above code the A & B is taking input as string and hence its showing the A & B's values as string.\n",
    "\n",
    "Here we need to do the type conversion"
   ]
  },
  {
   "cell_type": "code",
   "execution_count": 41,
   "id": "da389612",
   "metadata": {},
   "outputs": [
    {
     "name": "stdout",
     "output_type": "stream",
     "text": [
      "A = 50 & Type of A: <class 'int'>\n",
      "B = 60 & Type of B: <class 'int'>\n"
     ]
    }
   ],
   "source": [
    "A = int(input(\"Enter a number: \"))  \n",
    "B = int(input(\"Enter another number: \"))\n",
    "\n",
    "print(f\"A = {A} & Type of A: {type(A)}\" \"\\n\"\n",
    "      f\"B = {B} & Type of B: {type(B)}\")"
   ]
  },
  {
   "cell_type": "code",
   "execution_count": 48,
   "id": "809096b7",
   "metadata": {},
   "outputs": [
    {
     "name": "stdout",
     "output_type": "stream",
     "text": [
      "Type of A (where A = 10) before conversion: <class 'str'>\n",
      "Type of A (where A = 10) after conversion: <class 'int'>\n"
     ]
    }
   ],
   "source": [
    "# string to integer conversion\n",
    "\n",
    "A = \"10\"\n",
    "print(f\"Type of A (where A = {A}) before conversion: {type(A)}\")\n",
    "A = int(A)  # Converting string to integer\n",
    "print(f\"Type of A (where A = {A}) after conversion: {type(A)}\")"
   ]
  },
  {
   "cell_type": "code",
   "execution_count": 47,
   "id": "2187eb1a",
   "metadata": {},
   "outputs": [
    {
     "name": "stdout",
     "output_type": "stream",
     "text": [
      "Type of B (where B = 20) before conversion: <class 'int'>\n",
      "Type of B (where B = 20) after conversion: <class 'str'>\n"
     ]
    }
   ],
   "source": [
    "# integer to string conversion\n",
    "\n",
    "B = 20\n",
    "print(f\"Type of B (where B = {B}) before conversion: {type(B)}\")        \n",
    "B = str(B)  # Converting integer to string\n",
    "print(f\"Type of B (where B = {B}) after conversion: {type(B)}\")"
   ]
  },
  {
   "cell_type": "code",
   "execution_count": 49,
   "id": "7f2f1807",
   "metadata": {},
   "outputs": [
    {
     "name": "stdout",
     "output_type": "stream",
     "text": [
      "Type of C (where C = 30) before conversion: <class 'int'>\n",
      "Type of C (where C = 30.0) after conversion: <class 'float'>\n"
     ]
    }
   ],
   "source": [
    "# integer to float conversion\n",
    "\n",
    "C = 30\n",
    "print(f\"Type of C (where C = {C}) before conversion: {type(C)}\")\n",
    "C = float(C)  # Converting integer to float     \n",
    "print(f\"Type of C (where C = {C}) after conversion: {type(C)}\")"
   ]
  },
  {
   "cell_type": "code",
   "execution_count": 50,
   "id": "cc38a643",
   "metadata": {},
   "outputs": [
    {
     "name": "stdout",
     "output_type": "stream",
     "text": [
      "Type of D (where D = 40.5) before conversion: <class 'float'>\n",
      "Type of D (where D = 40) after conversion: <class 'int'>\n"
     ]
    }
   ],
   "source": [
    "# float to integer conversion\n",
    "\n",
    "D = 40.5\n",
    "print(f\"Type of D (where D = {D}) before conversion: {type(D)}\")\n",
    "D = int(D)  # Converting float to integer\n",
    "print(f\"Type of D (where D = {D}) after conversion: {type(D)}\")"
   ]
  },
  {
   "cell_type": "code",
   "execution_count": null,
   "id": "c334320a",
   "metadata": {},
   "outputs": [
    {
     "name": "stdout",
     "output_type": "stream",
     "text": [
      "Type of E (where E = 50) before conversion: <class 'int'>\n",
      "Type of E (where E = True) after conversion: <class 'bool'>\n"
     ]
    }
   ],
   "source": [
    "# integer to boolean conversion\n",
    "# True = 1\n",
    "# False = 0\n",
    " \n",
    "E = 50\n",
    "print(f\"Type of E (where E = {E}) before conversion: {type(E)}\")    \n",
    "E = bool(E)  # Converting integer to boolean\n",
    "print(f\"Type of E (where E = {E}) after conversion: {type(E)}\")"
   ]
  },
  {
   "cell_type": "markdown",
   "id": "a2e66a06",
   "metadata": {},
   "source": [
    "**Memory Block**"
   ]
  },
  {
   "cell_type": "code",
   "execution_count": 53,
   "id": "36b59cc9",
   "metadata": {},
   "outputs": [],
   "source": [
    "a = 22\n",
    "b = 7\n",
    "c = 22"
   ]
  },
  {
   "cell_type": "code",
   "execution_count": 54,
   "id": "7a79b0c4",
   "metadata": {},
   "outputs": [
    {
     "name": "stdout",
     "output_type": "stream",
     "text": [
      "140710013298248\n",
      "140710013297768\n",
      "140710013298248\n"
     ]
    }
   ],
   "source": [
    "print(id(a))  # Memory address of variable a\n",
    "print(id(b))  # Memory address of variable b        \n",
    "print(id(c))  # Memory address of variable c"
   ]
  },
  {
   "cell_type": "markdown",
   "id": "8cd0b846",
   "metadata": {},
   "source": [
    "Here we see the memory add of a and c is same even the tough the variable names are differe. \n",
    "It is because the memory is allocated to the value of the variable not to the variable."
   ]
  },
  {
   "cell_type": "code",
   "execution_count": 55,
   "id": "e9e3d929",
   "metadata": {},
   "outputs": [
    {
     "name": "stdout",
     "output_type": "stream",
     "text": [
      "140710013298248\n",
      "140710013297768\n",
      "2141045157008\n"
     ]
    }
   ],
   "source": [
    "a = 22\n",
    "b = 7\n",
    "c = 22.0\n",
    "\n",
    "print(id(a))  # Memory address of variable a\n",
    "print(id(b))  # Memory address of variable b        \n",
    "print(id(c))  # Memory address of variable c"
   ]
  },
  {
   "cell_type": "markdown",
   "id": "1bfcf538",
   "metadata": {},
   "source": [
    "Now the memory add of a and c is diff because the value of a int and of c is float."
   ]
  },
  {
   "cell_type": "markdown",
   "id": "caa7e0c8",
   "metadata": {},
   "source": [
    "**Operators**\n",
    "- Logical\n",
    "- Equality\n",
    "- Comparison\n",
    "- Arithmatic"
   ]
  },
  {
   "cell_type": "code",
   "execution_count": null,
   "id": "27d7148b",
   "metadata": {},
   "outputs": [],
   "source": []
  }
 ],
 "metadata": {
  "kernelspec": {
   "display_name": ".venv",
   "language": "python",
   "name": "python3"
  },
  "language_info": {
   "codemirror_mode": {
    "name": "ipython",
    "version": 3
   },
   "file_extension": ".py",
   "mimetype": "text/x-python",
   "name": "python",
   "nbconvert_exporter": "python",
   "pygments_lexer": "ipython3",
   "version": "3.13.0"
  }
 },
 "nbformat": 4,
 "nbformat_minor": 5
}
